{
 "cells": [
  {
   "cell_type": "code",
   "execution_count": 7,
   "id": "a25e5975-0a40-4d39-ae22-f23aad4bbbc3",
   "metadata": {},
   "outputs": [],
   "source": [
    "consumo_diario = [50, 45, 55, 60, 48, 52, 47, 49, 53, 51, 50, 46, 54, 61, 49, 53, 48, 50, 52, 47, 56, 50, 55, 60, 48, 52, 47, 49, 53, 51]"
   ]
  },
  {
   "cell_type": "code",
   "execution_count": 9,
   "id": "2ede88a1-a1d8-4ace-89f2-d463bb421cc5",
   "metadata": {},
   "outputs": [],
   "source": [
    "def consumo(consumo_diario):\n",
    "    media = sum(consumo_diario) / len(consumo_diario)\n",
    "    return media"
   ]
  },
  {
   "cell_type": "code",
   "execution_count": 11,
   "id": "40439a34-054c-4778-b688-fd8c550f852e",
   "metadata": {},
   "outputs": [
    {
     "name": "stdout",
     "output_type": "stream",
     "text": [
      "O consumo diário médio foi: 51.36666666666667\n"
     ]
    }
   ],
   "source": [
    "print(f\"O consumo diário médio foi: {consumo(consumo_diario)}\")"
   ]
  },
  {
   "cell_type": "code",
   "execution_count": null,
   "id": "f2ec0c6a-e2bf-4b08-986f-73858fef486c",
   "metadata": {},
   "outputs": [],
   "source": []
  }
 ],
 "metadata": {
  "kernelspec": {
   "display_name": "Python [conda env:base] *",
   "language": "python",
   "name": "conda-base-py"
  },
  "language_info": {
   "codemirror_mode": {
    "name": "ipython",
    "version": 3
   },
   "file_extension": ".py",
   "mimetype": "text/x-python",
   "name": "python",
   "nbconvert_exporter": "python",
   "pygments_lexer": "ipython3",
   "version": "3.12.7"
  }
 },
 "nbformat": 4,
 "nbformat_minor": 5
}
